{
  "nbformat": 4,
  "nbformat_minor": 0,
  "metadata": {
    "kernelspec": {
      "display_name": "Python 3",
      "language": "python",
      "name": "python3"
    },
    "language_info": {
      "codemirror_mode": {
        "name": "ipython",
        "version": 3
      },
      "file_extension": ".py",
      "mimetype": "text/x-python",
      "name": "python",
      "nbconvert_exporter": "python",
      "pygments_lexer": "ipython3",
      "version": "3.6.1"
    },
    "colab": {
      "name": "1_Reinforcement-Learning-Basics_ML18.ipynb",
      "provenance": [],
      "include_colab_link": true
    }
  },
  "cells": [
    {
      "cell_type": "markdown",
      "metadata": {
        "id": "view-in-github",
        "colab_type": "text"
      },
      "source": [
        "<a href=\"https://colab.research.google.com/github/ckraju/Reinforcement-Learning/blob/main/1_Reinforcement-Learning-Basics_ML18.ipynb\" target=\"_parent\"><img src=\"https://colab.research.google.com/assets/colab-badge.svg\" alt=\"Open In Colab\"/></a>"
      ]
    },
    {
      "cell_type": "markdown",
      "metadata": {
        "id": "EOU8Sb4WM5dr"
      },
      "source": [
        "# Reinforcement Learning Basics\n",
        "\n",
        "**Reinforcement learning** (RL) is a category of machine learning and it is best understood as If we have an **agent** that interacts with an **environment** such that it can observe the environment state and perform **actions**. Upon doing actions, the environment state changes into a new state and the agent receives a **reward** (or penalty). Reinforcement learning aims at making this agent learn from his experience of interactions with the environment so that it chooses the best actions that maximize the sum of rewards it receives from the environment.\n",
        "<img src=\"https://github.com/ckraju/Reinforcement-Learning/blob/main/images/rl_diagram.png?raw=1\">\n",
        "\n",
        "Mathematically, RL is described using a framework called **Markov Decision Process** (MDP). Formally, MDP is defined by a tuple of five items $<S, A, P, R, \\gamma>$, which are:\n",
        "- $S$:  Set of observations. The agent observes the environment state as one item of this set.\n",
        "- $A$: Set of actions. The set of actions the agent can choose one from to interact with the environment.\n",
        "- $P$: $P(s'| s, a)$ transition probability matrix. This models what next state $s'$ will be after the agent makes the action a while being in the current state $s$.\n",
        "- $R$: $P(r | s, a)$ reward model that models what reward the agent will receive when it performs action $a$ when it is in state $s$.\n",
        "- $\\gamma$: discount factor. This factor is a numerical value between 0 and 1 that represents the relative importance between immediate and future rewards. \n",
        "\n",
        "The goal of the RL is to solve the MDP by finding *optimal policy* which means finding the sequence of action it can make to maximize the total received reward. The two fundamental method for solving MDP's are **value iteration** and **policy iteration** algorithms. Both value-iteration and policy-iteration assume that the agent knows the MDP model of the world (i.e. the agent knows the state-transition and reward probability functions). Therefore, they can be used by the agent to (offline) plan its actions given knowledge about the environment before interacting with it. We will discuss these two approaches in this notebook. \n",
        "\n",
        "### MDP\n",
        "We saw that MDP consists of a tuple of 5 elements, $<S, A, P, R, \\gamma>$.  The way by which the agent chooses which action to perform is named the agent **policy** which is a function that takes the current environment state to return an action. The policy is often denoted by the symbol $\\pi$.\n",
        "$$\\pi(s) : \\mathbb{S} \\rightarrow \\mathbb{A}$$\n",
        "\n",
        "Let’s now differentiate between two types of environments.\n",
        "\n",
        " - **Deterministic environment**: deterministic environment means that both state transition model and reward model are deterministic functions. If the agent while in a given state repeats a given action, it will always go the same next state and receives the same reward value.\n",
        " \n",
        "- **Stochastic environment**: In a stochastic environment there is uncertainty about the actions effect. When the agent repeats doing the same action in a given state, the new state and received reward may not be the same each time. For example, a robot which tries to move forward but because of the imperfection in the robot operation or other factors in the environment (e.g. slippery floor), sometimes the action forward will make it move forward but in sometimes, it will move to left or right.\n",
        "\n",
        "Deterministic environments are easier to solve because the agent knows how to plan its actions with no-uncertainty given the environment MDP. Possibly, the environment can be modeled in as a graph where each state is a node and edges represent transition actions from one state to another and edge weights are received rewards. Then, the agent can use a graph search algorithm such as A* to _find the path with maximum total reward form the initial state_.\n",
        "\n",
        "The goal of the agent is to pick the best policy that will maximize the total rewards received from the environment. \n",
        "\n",
        "Assume that environment is initially at state $s_0$. At time 0: Agent observes the environment state $s_0$ and picks an action $a_0$, then upon performing its action, environment state becomes $s_1$ and the agent receives a reward $r_1$. At time 1: Agent observes current state $s_1$ and picks an action $a_1$ , then upon acting its action, environment state becomes $s_2$ and it receives a reward $r_2$. So the **total reward** received by the agent in response to the actions selected by its policy is going to be: \n",
        "$$\\text{total_reward} = r_1 + r_2 + \\dots$$.\n",
        "\n",
        "However, it is common to use a discount factor to give higher weight to near rewards received near than rewards received further in the future.\n",
        "$$\\text{total_discounted_reward} = r_1 + \\gamma\\ r_2 + \\gamma^{2}\\ r_3 + \\dots = \\sum_{i=1}^{T} \\gamma^{i-1}\\ r_i$$\n",
        "where `T` is the horizon (episode length) which can be infinity if there is the maximum length for the episode.\n",
        "\n",
        "The **value function** $V(s)$ represent how good is a state for an agent to be in. It is equal to expected total reward for an agent starting from state $s$. The value function depends on the policy $\\pi$ by which the agent picks actions to perform.\n",
        "$$V^{\\pi}(s) = \\mathbb{E}[\\sum_{i=1}^T \\gamma^{i-1} r_i], \\forall s \\in \\mathbb{S}$$\n",
        "\n",
        "Among all possible value-functions, there exists an optimal value function that has a higher value than other functions for all states.\n",
        "$$V^{*}(s) = \\max_{\\pi} V^{\\pi}(s), \\forall s \\in \\mathbb{S}$$\n",
        "\n",
        "The optimal policy $\\pi^{*}$ is the policy that corresponds to optimal value function.\n",
        "$$\\pi^{*} = \\arg\\max_{\\pi} V^{\\pi}(s), \\forall s \\in \\mathbb{S}$$\n",
        "\n",
        "In addition to the state value-function, for convenience RL algorithms introduce another function which is the state-action pair **Q function**. Q is a function of a state-action pair and returns a real value.\n",
        "$$\\mathbf{Q}:\\mathbb{S} \\times \\mathbb{A} \\rightarrow \\mathbb{R}$$\n",
        "\n",
        "The optimal Q-function $Q^{*}(s, a)$ means the expected total reward received by an agent starting in sand picks action $a$, then will behave optimally afterward. There, $Q^{*}(s, a)$ is an indication of how good it is for an agent to pick action a while being in state $s$.\n",
        "\n",
        "Since $V^{*}(s)$ is the maximum expected total reward when starting from state $a$, it will be the maximum of $Q^{*}(s, a)$over all possible actions. Therefore, the relationship between Q*(s, a) and V*(s) is easily obtained as:\n",
        "$$V^{*}(s) = \\max_{a} Q^{*}(s,a), \\forall s \\in \\mathbb{S}$$\n",
        "\n",
        "and If we know the optimal Q-function Q*(s, a) , the optimal policy can be easily extracted by choosing the action a that gives maximum Q*(s, a) for state s.\n",
        "\n",
        "Now, given these, we can introduce **Bellman equations**. Bellman equation using dynamic programming paradigm provides a recursive definition for the optimal Q-function. The $Q^{*}(s, a)$ is equal to the summation of immediate reward after performing action $a$ while in state $s$ and the discounted expected future reward after the transition to a next state $s'$.\n",
        "$$Q^{*}(s,a) = R(s,a) + \\gamma \\mathbb{E}_{s'}[V^{*}(s')]$$\n",
        "$$Q^{*}(s,a) = R(s,a) + \\gamma \\sum_{s' \\in \\mathbb{S}} p(s'|s,a) V^{*}(s')$$\n",
        "\n",
        "Since $V^{*}(S) = \\max_{a} Q^{*}(s, a)$, we have\n",
        "$$V^{*}(S) = \\max_{a} \\Big( R(s,a) + \\gamma \\sum_{s' \\in \\mathbb{S}} p(s'|s, a)V^{*}(s,a) \\Big)$$\n",
        "\n",
        "Value-iteration and policy iteration rely on these equations to compute the optimal value function.\n",
        "\n",
        "First, let us take a look at our environment."
      ]
    },
    {
      "cell_type": "code",
      "metadata": {
        "id": "U98_QkOmM82k",
        "colab": {
          "base_uri": "https://localhost:8080/"
        },
        "outputId": "a1bafb24-36bc-4594-d198-1040bf650769"
      },
      "source": [
        "!wget https://raw.githubusercontent.com/ckraju/Reinforcement-Learning/main/frozenlake.py\n",
        "!wget https://raw.githubusercontent.com/ckraju/Reinforcement-Learning/main/plot_utils.py\n",
        "\n"
      ],
      "execution_count": 1,
      "outputs": [
        {
          "output_type": "stream",
          "text": [
            "--2021-08-01 06:42:18--  https://raw.githubusercontent.com/ckraju/Reinforcement-Learning/main/frozenlake.py\n",
            "Resolving raw.githubusercontent.com (raw.githubusercontent.com)... 185.199.111.133, 185.199.108.133, 185.199.109.133, ...\n",
            "Connecting to raw.githubusercontent.com (raw.githubusercontent.com)|185.199.111.133|:443... connected.\n",
            "HTTP request sent, awaiting response... 200 OK\n",
            "Length: 4521 (4.4K) [text/plain]\n",
            "Saving to: ‘frozenlake.py’\n",
            "\n",
            "\rfrozenlake.py         0%[                    ]       0  --.-KB/s               \rfrozenlake.py       100%[===================>]   4.42K  --.-KB/s    in 0s      \n",
            "\n",
            "2021-08-01 06:42:18 (51.6 MB/s) - ‘frozenlake.py’ saved [4521/4521]\n",
            "\n",
            "--2021-08-01 06:42:18--  https://raw.githubusercontent.com/ckraju/Reinforcement-Learning/main/plot_utils.py\n",
            "Resolving raw.githubusercontent.com (raw.githubusercontent.com)... 185.199.111.133, 185.199.108.133, 185.199.109.133, ...\n",
            "Connecting to raw.githubusercontent.com (raw.githubusercontent.com)|185.199.111.133|:443... connected.\n",
            "HTTP request sent, awaiting response... 200 OK\n",
            "Length: 502 [text/plain]\n",
            "Saving to: ‘plot_utils.py’\n",
            "\n",
            "plot_utils.py       100%[===================>]     502  --.-KB/s    in 0s      \n",
            "\n",
            "2021-08-01 06:42:18 (21.3 MB/s) - ‘plot_utils.py’ saved [502/502]\n",
            "\n"
          ],
          "name": "stdout"
        }
      ]
    },
    {
      "cell_type": "code",
      "metadata": {
        "id": "D0h7neP4M5dw"
      },
      "source": [
        "# Imports\n",
        "import numpy as np\n",
        "import copy\n",
        "\n",
        "from frozenlake import FrozenLakeEnv\n",
        "from plot_utils import plot_values"
      ],
      "execution_count": 2,
      "outputs": []
    },
    {
      "cell_type": "markdown",
      "metadata": {
        "id": "RCxUWxWSM5dz"
      },
      "source": [
        "## 0. Introduction to environment - Frozen Lake\n",
        "\n",
        "For this lab we will solve the [Frozen Lake](https://gym.openai.com/envs/FrozenLake-v0) environment from [OpenAI gym](https://gym.openai.com/). \n",
        "<img src=\"https://github.com/ckraju/Reinforcement-Learning/blob/main/images/frozen_lake.png?raw=1\" width=50%>\n",
        "\n",
        "The FrozenLake environment consists of a 4x4 grid of blocks, each one either being the start block, the goal block, a safe frozen block, or a dangerous hole as shown below:\n",
        "```\n",
        "SFFF       (S: starting point, safe)\n",
        "FHFH       (F: frozen surface, safe)\n",
        "FFFH       (H: hole, fall to your doom)\n",
        "HFFG       (G: goal, where the frisbee is located)\n",
        "```\n",
        "\n",
        "The objective is to have an agent learn to navigate from the start to the goal without moving onto a hole. At any given time the agent can choose to move either up, down, left, or right. The catch is that there is a wind which occasionally blows the agent onto a space they didn’t choose. As such, perfect performance every time is impossible, but learning to avoid the holes and reach the goal are certainly still doable. The reward at every step is 0, except for entering the goal, which provides a reward of 1.\n",
        "\n",
        "Thus, $\\mathcal{S}^+ = \\{0, 1, \\ldots, 15\\}$, and $\\mathcal{A} = \\{0, 1, 2, 3\\}$.  Verify this by running the code cell below."
      ]
    },
    {
      "cell_type": "code",
      "metadata": {
        "id": "DgfXSNp8M5d0"
      },
      "source": [
        "env = FrozenLakeEnv()"
      ],
      "execution_count": 3,
      "outputs": []
    },
    {
      "cell_type": "code",
      "metadata": {
        "id": "ykiAlG2fM5d1",
        "colab": {
          "base_uri": "https://localhost:8080/"
        },
        "outputId": "1f60d0f3-92d1-400c-f39a-79f73e6f4d7e"
      },
      "source": [
        "# print the state space and action space\n",
        "print(env.observation_space)\n",
        "print(env.action_space)\n",
        "\n",
        "# print the total number of states and actions\n",
        "print(env.nS)\n",
        "print(env.nA)"
      ],
      "execution_count": 4,
      "outputs": [
        {
          "output_type": "stream",
          "text": [
            "Discrete(16)\n",
            "Discrete(4)\n",
            "16\n",
            "4\n"
          ],
          "name": "stdout"
        }
      ]
    },
    {
      "cell_type": "markdown",
      "metadata": {
        "id": "wOdTbVq1M5d3"
      },
      "source": [
        "Typical solutions via dynamic programming in RL assumes that the agent has full knowledge of the MDP. Therefore, the `frozenlake.py` file is ammended to make the one-step dynamics accessible to the agent.  \n",
        "\n",
        "Execute the code cell below to return the one-step dynamics corresponding to a particular state and action.  In particular, `env.P[1][0]` returns the the probability of each possible reward and next state, if the agent is in state 1 of the gridworld and decides to go left."
      ]
    },
    {
      "cell_type": "code",
      "metadata": {
        "id": "j9_YEMggM5d4",
        "colab": {
          "base_uri": "https://localhost:8080/"
        },
        "outputId": "962c71c9-bc42-4293-8342-1df303e3ddc4"
      },
      "source": [
        "env.P[1][0]"
      ],
      "execution_count": 5,
      "outputs": [
        {
          "output_type": "execute_result",
          "data": {
            "text/plain": [
              "[(0.3333333333333333, 1, 0.0, False),\n",
              " (0.3333333333333333, 0, 0.0, False),\n",
              " (0.3333333333333333, 5, 0.0, True)]"
            ]
          },
          "metadata": {
            "tags": []
          },
          "execution_count": 5
        }
      ]
    },
    {
      "cell_type": "markdown",
      "metadata": {
        "id": "FyehVfGVM5d5"
      },
      "source": [
        "Each entry takes the form \n",
        "```\n",
        "prob, next_state, reward, done\n",
        "```\n",
        "where: \n",
        "- `prob` details the conditional probability of the corresponding (`next_state`, `reward`) pair, and\n",
        "- `done` is `True` if the `next_state` is a terminal state, and otherwise `False`.\n",
        "\n",
        "Thus, we can interpret `env.P[1][0]` as follows:\n",
        "$$\n",
        "\\mathbb{P}(S_{t+1}=s',R_{t+1}=r|S_t=1,A_t=0) = \\begin{cases}\n",
        "               \\frac{1}{3} \\text{ if } s'=1, r=0\\\\\n",
        "               \\frac{1}{3} \\text{ if } s'=0, r=0\\\\\n",
        "               \\frac{1}{3} \\text{ if } s'=5, r=0\\\\\n",
        "               0 \\text{ else}\n",
        "            \\end{cases}\n",
        "$$\n",
        "\n",
        "To understand the value of `env.P[1][0]`, note that when you create a FrozenLake environment, it takes as an (optional) argument `is_slippery`, which defaults to `True`.  \n",
        "\n",
        "To see this, change the first line in the notebook from `env = FrozenLakeEnv()` to `env = FrozenLakeEnv(is_slippery=False)`.  Then, when you check `env.P[1][0]`, it should look like what you expect (i.e., `env.P[1][0] = [(1.0, 0, 0.0, False)]`).\n",
        "\n",
        "The default value for the `is_slippery` argument is `True`.  In the event that `is_slippery=True`, you see that this can result in the agent moving in a direction that it did not intend (where the idea is that the ground is *slippery*, and so the agent can slide to a location other than the one it wanted).\n",
        "\n",
        "Feel free to change the code cell above to explore how the environment behaves in response to other (state, action) pairs.  \n",
        "\n",
        "Before proceeding to the next part, make sure that you set `is_slippery=True`, so that your implementations below will work with the slippery environment!"
      ]
    },
    {
      "cell_type": "markdown",
      "metadata": {
        "id": "RJ3lffcBM5d6"
      },
      "source": [
        "### Part 1: Iterative Policy Evaluation\n",
        "\n",
        "In this section, you will write your own implementation of iterative policy evaluation.\n",
        "\n",
        "Your algorithm should accept four arguments as **input**:\n",
        "- `env`: This is an instance of an OpenAI Gym environment, where `env.P` returns the one-step dynamics.\n",
        "- `policy`: This is a 2D numpy array with `policy.shape[0]` equal to the number of states (`env.nS`), and `policy.shape[1]` equal to the number of actions (`env.nA`).  `policy[s][a]` returns the probability that the agent takes action `a` while in state `s` under the policy.\n",
        "- `gamma`: This is the discount rate.  It must be a value between 0 and 1, inclusive (default value: `1`).\n",
        "- `theta`: This is a very small positive number that is used to decide if the estimate has sufficiently converged to the true value function (default value: `1e-8`).\n",
        "\n",
        "The algorithm returns as **output**:\n",
        "- `V`: This is a 1D numpy array with `V.shape[0]` equal to the number of states (`env.nS`).  `V[s]` contains the estimated value of state `s` under the input policy.\n",
        "\n",
        "See the code below,"
      ]
    },
    {
      "cell_type": "code",
      "metadata": {
        "id": "SrZNCWtAM5d7"
      },
      "source": [
        "def policy_evaluation(env, policy, gamma=1, theta=1e-8):\n",
        "    V = np.zeros(env.nS)\n",
        "    while True:\n",
        "        delta = 0\n",
        "        for s in range(env.nS):\n",
        "            Vs = 0\n",
        "            for a, action_prob in enumerate(policy[s]):\n",
        "                for prob, next_state, reward, done in env.P[s][a]:\n",
        "                    Vs += action_prob * prob * (reward + gamma * V[next_state])\n",
        "            delta = max(delta, np.abs(V[s]-Vs))\n",
        "            V[s] = Vs\n",
        "        if delta < theta:\n",
        "            break\n",
        "    return V"
      ],
      "execution_count": 6,
      "outputs": []
    },
    {
      "cell_type": "markdown",
      "metadata": {
        "id": "D0ZzsquzM5d8"
      },
      "source": [
        "We will evaluate the equiprobable random policy $\\pi$, where $\\pi(a|s) = \\frac{1}{|\\mathcal{A}(s)|}$ for all $s\\in\\mathcal{S}$ and $a\\in\\mathcal{A}(s)$.  \n",
        "\n",
        "Use the code cell below to specify this policy in the variable `random_policy`. In this problem, we have 16 states and 4 possible moves. As a result, there exist $4^{16}=4294967296$ possible policies. Of course, it is not feasible to evaluate all of them, but we can generate a random set of solutions and select the best among them."
      ]
    },
    {
      "cell_type": "code",
      "metadata": {
        "id": "lIVUBiI_M5d8"
      },
      "source": [
        "random_policy = np.ones([env.nS, env.nA]) / env.nA"
      ],
      "execution_count": 7,
      "outputs": []
    },
    {
      "cell_type": "markdown",
      "metadata": {
        "id": "MqMqaTtoM5d9"
      },
      "source": [
        "Run the next code cell to evaluate the equiprobable random policy and visualize the output.  The state-value function has been reshaped to match the shape of the gridworld."
      ]
    },
    {
      "cell_type": "code",
      "metadata": {
        "scrolled": true,
        "id": "mOLpXSyeM5d-",
        "colab": {
          "base_uri": "https://localhost:8080/",
          "height": 390
        },
        "outputId": "c74b8b44-e13c-4078-b1ba-c0bf75811566"
      },
      "source": [
        "# evaluate the policy \n",
        "V = policy_evaluation(env, random_policy)\n",
        "\n",
        "plot_values(V)"
      ],
      "execution_count": 8,
      "outputs": [
        {
          "output_type": "display_data",
          "data": {
            "image/png": "[encoded data removed]",
            "text/plain": [
              "<Figure size 432x432 with 1 Axes>"
            ]
          },
          "metadata": {
            "tags": [],
            "needs_background": "light"
          }
        }
      ]
    },
    {
      "cell_type": "markdown",
      "metadata": {
        "id": "LLb2W8nOM5d_"
      },
      "source": [
        "### Part 2: Obtain $q_\\pi$ from $v_\\pi$\n",
        "\n",
        "In this section, we will see a function that takes the state-value function estimate as input, along with some state $s\\in\\mathcal{S}$.  It returns the **row in the action-value function** corresponding to the input state $s\\in\\mathcal{S}$.  That is, the function should accept as input both $v_\\pi$ and $s$, and return $q_\\pi(s,a)$ for all $a\\in\\mathcal{A}(s)$.\n",
        "\n",
        "The algorithm should accept four arguments as **input**:\n",
        "- `env`: This is an instance of an OpenAI Gym environment, where `env.P` returns the one-step dynamics.\n",
        "- `V`: This is a 1D numpy array with `V.shape[0]` equal to the number of states (`env.nS`).  `V[s]` contains the estimated value of state `s`.\n",
        "- `s`: This is an integer corresponding to a state in the environment.  It should be a value between `0` and `(env.nS)-1`, inclusive.\n",
        "- `gamma`: This is the discount rate.  It must be a value between 0 and 1, inclusive (default value: `1`).\n",
        "\n",
        "The algorithm returns as **output**:\n",
        "- `q`: This is a 1D numpy array with `q.shape[0]` equal to the number of actions (`env.nA`).  `q[a]` contains the (estimated) value of state `s` and action `a`."
      ]
    },
    {
      "cell_type": "code",
      "metadata": {
        "id": "CVcovRXzM5d_"
      },
      "source": [
        "def q_from_v(env, V, s, gamma=1):\n",
        "    q = np.zeros(env.nA)\n",
        "    for a in range(env.nA):\n",
        "        for prob, next_state, reward, done in env.P[s][a]:\n",
        "            q[a] += prob * (reward + gamma * V[next_state])\n",
        "    return q"
      ],
      "execution_count": 9,
      "outputs": []
    },
    {
      "cell_type": "markdown",
      "metadata": {
        "id": "uZJZ6NXJM5eA"
      },
      "source": [
        "The code cell below prints the action-value function corresponding to the above state-value function."
      ]
    },
    {
      "cell_type": "code",
      "metadata": {
        "id": "ylIvsMZOM5eA",
        "colab": {
          "base_uri": "https://localhost:8080/"
        },
        "outputId": "9c91e178-ef21-4492-94cb-bda8e2b0d314"
      },
      "source": [
        "Q = np.zeros([env.nS, env.nA])\n",
        "for s in range(env.nS):\n",
        "    Q[s] = q_from_v(env, V, s)\n",
        "print(\"Action-Value Function:\")\n",
        "print(Q)"
      ],
      "execution_count": 10,
      "outputs": [
        {
          "output_type": "stream",
          "text": [
            "Action-Value Function:\n",
            "[[0.0147094  0.01393978 0.01393978 0.01317015]\n",
            " [0.00852356 0.01163091 0.0108613  0.01550788]\n",
            " [0.02444514 0.02095298 0.02406033 0.01435346]\n",
            " [0.01047649 0.01047649 0.00698432 0.01396865]\n",
            " [0.02166487 0.01701828 0.01624865 0.01006281]\n",
            " [0.         0.         0.         0.        ]\n",
            " [0.05433538 0.04735105 0.05433538 0.00698432]\n",
            " [0.         0.         0.         0.        ]\n",
            " [0.01701828 0.04099204 0.03480619 0.04640826]\n",
            " [0.07020885 0.11755991 0.10595784 0.05895312]\n",
            " [0.18940421 0.17582037 0.16001424 0.04297382]\n",
            " [0.         0.         0.         0.        ]\n",
            " [0.         0.         0.         0.        ]\n",
            " [0.08799677 0.20503718 0.23442716 0.17582037]\n",
            " [0.25238823 0.53837051 0.52711478 0.43929118]\n",
            " [0.         0.         0.         0.        ]]\n"
          ],
          "name": "stdout"
        }
      ]
    },
    {
      "cell_type": "markdown",
      "metadata": {
        "id": "sJn0g_JDM5eA"
      },
      "source": [
        "### Part 3: Policy Improvement\n",
        "\n",
        "In this section, we will see an implementation of policy improvement. \n",
        "\n",
        "The algorithm should accept three arguments as **input**:\n",
        "- `env`: This is an instance of an OpenAI Gym environment, where `env.P` returns the one-step dynamics.\n",
        "- `V`: This is a 1D numpy array with `V.shape[0]` equal to the number of states (`env.nS`).  `V[s]` contains the estimated value of state `s`.\n",
        "- `gamma`: This is the discount rate.  It must be a value between 0 and 1, inclusive (default value: `1`).\n",
        "\n",
        "The algorithm returns as **output**:\n",
        "- `policy`: This is a 2D numpy array with `policy.shape[0]` equal to the number of states (`env.nS`), and `policy.shape[1]` equal to the number of actions (`env.nA`).  `policy[s][a]` returns the probability that the agent takes action `a` while in state `s` under the policy."
      ]
    },
    {
      "cell_type": "code",
      "metadata": {
        "id": "IvJGRU3PM5eB"
      },
      "source": [
        "def policy_improvement(env, V, gamma=1):\n",
        "    policy = np.zeros([env.nS, env.nA]) / env.nA\n",
        "    for s in range(env.nS):\n",
        "        q = q_from_v(env, V, s, gamma)\n",
        "        \n",
        "        # OPTION 1: construct a deterministic policy \n",
        "        # policy[s][np.argmax(q)] = 1\n",
        "        \n",
        "        # OPTION 2: construct a stochastic policy that puts equal probability on maximizing actions\n",
        "        best_a = np.argwhere(q==np.max(q)).flatten()\n",
        "        policy[s] = np.sum([np.eye(env.nA)[i] for i in best_a], axis=0)/len(best_a)\n",
        "        \n",
        "    return policy"
      ],
      "execution_count": 11,
      "outputs": []
    },
    {
      "cell_type": "markdown",
      "metadata": {
        "id": "G5FAGXImM5eB"
      },
      "source": [
        "### Part 4: Policy Iteration\n",
        "\n",
        "In this section, we will se an implementation of policy iteration.  The algorithm returns the optimal policy, along with its corresponding state-value function.\n",
        "\n",
        "The algorithm should accept three arguments as **input**:\n",
        "- `env`: This is an instance of an OpenAI Gym environment, where `env.P` returns the one-step dynamics.\n",
        "- `gamma`: This is the discount rate.  It must be a value between 0 and 1, inclusive (default value: `1`).\n",
        "- `theta`: This is a very small positive number that is used to decide if the policy evaluation step has sufficiently converged to the true value function (default value: `1e-8`).\n",
        "\n",
        "The algorithm returns as **output**:\n",
        "- `policy`: This is a 2D numpy array with `policy.shape[0]` equal to the number of states (`env.nS`), and `policy.shape[1]` equal to the number of actions (`env.nA`).  `policy[s][a]` returns the probability that the agent takes action `a` while in state `s` under the policy.\n",
        "- `V`: This is a 1D numpy array with `V.shape[0]` equal to the number of states (`env.nS`).  `V[s]` contains the estimated value of state `s`."
      ]
    },
    {
      "cell_type": "code",
      "metadata": {
        "id": "nn2kGPrWM5eC"
      },
      "source": [
        "def policy_iteration(env, gamma=1, theta=1e-8):\n",
        "    policy = np.ones([env.nS, env.nA]) / env.nA\n",
        "    while True:\n",
        "        V = policy_evaluation(env, policy, gamma, theta)\n",
        "        new_policy = policy_improvement(env, V)\n",
        "        \n",
        "        # OPTION 1: stop if the policy is unchanged after an improvement step\n",
        "        if (new_policy == policy).all():\n",
        "            break;\n",
        "        \n",
        "        # OPTION 2: stop if the value function estimates for successive policies has converged\n",
        "        # if np.max(abs(policy_evaluation(env, policy) - policy_evaluation(env, new_policy))) < theta*1e2:\n",
        "        #    break;\n",
        "        \n",
        "        policy = copy.copy(new_policy)\n",
        "    return policy, V"
      ],
      "execution_count": 12,
      "outputs": []
    },
    {
      "cell_type": "markdown",
      "metadata": {
        "id": "zVeRete3M5eC"
      },
      "source": [
        "Run the next code cell to solve the MDP and visualize the output.  The optimal state-value function has been reshaped to match the shape of the gridworld.\n",
        "\n",
        "**Compare the optimal state-value function to the state-value function from Part 1 of this notebook**.  _Is the optimal state-value function consistently greater than or equal to the state-value function for the equiprobable random policy?_"
      ]
    },
    {
      "cell_type": "code",
      "metadata": {
        "id": "kYNFYuuIM5eD",
        "colab": {
          "base_uri": "https://localhost:8080/",
          "height": 720
        },
        "outputId": "77253468-8d5d-4870-b965-3f20e6ae0d30"
      },
      "source": [
        "# obtain the optimal policy and optimal state-value function\n",
        "policy_pi, V_pi = policy_iteration(env)\n",
        "\n",
        "# print the optimal policy\n",
        "print(\"\\nOptimal Policy (LEFT = 0, DOWN = 1, RIGHT = 2, UP = 3):\")\n",
        "print(policy_pi,\"\\n\")\n",
        "\n",
        "plot_values(V_pi)"
      ],
      "execution_count": 13,
      "outputs": [
        {
          "output_type": "stream",
          "text": [
            "\n",
            "Optimal Policy (LEFT = 0, DOWN = 1, RIGHT = 2, UP = 3):\n",
            "[[1.   0.   0.   0.  ]\n",
            " [0.   0.   0.   1.  ]\n",
            " [0.   0.   0.   1.  ]\n",
            " [0.   0.   0.   1.  ]\n",
            " [1.   0.   0.   0.  ]\n",
            " [0.25 0.25 0.25 0.25]\n",
            " [0.5  0.   0.5  0.  ]\n",
            " [0.25 0.25 0.25 0.25]\n",
            " [0.   0.   0.   1.  ]\n",
            " [0.   1.   0.   0.  ]\n",
            " [1.   0.   0.   0.  ]\n",
            " [0.25 0.25 0.25 0.25]\n",
            " [0.25 0.25 0.25 0.25]\n",
            " [0.   0.   1.   0.  ]\n",
            " [0.   1.   0.   0.  ]\n",
            " [0.25 0.25 0.25 0.25]] \n",
            "\n"
          ],
          "name": "stdout"
        },
        {
          "output_type": "display_data",
          "data": {
            "image/png": "[encoded data removed]",
            "text/plain": [
              "<Figure size 432x432 with 1 Axes>"
            ]
          },
          "metadata": {
            "tags": [],
            "needs_background": "light"
          }
        }
      ]
    },
    {
      "cell_type": "markdown",
      "metadata": {
        "id": "8d5oVIcRM5eD"
      },
      "source": [
        "### Part 5: Truncated Policy Iteration\n",
        "\n",
        "In this section, we will implementation the truncated policy iteration.  \n",
        "\n",
        "We will begin by implementing truncated policy evaluation. Our algorithm should accept five arguments as **input**:\n",
        "- `env`: This is an instance of an OpenAI Gym environment, where `env.P` returns the one-step dynamics.\n",
        "- `policy`: This is a 2D numpy array with `policy.shape[0]` equal to the number of states (`env.nS`), and `policy.shape[1]` equal to the number of actions (`env.nA`).  `policy[s][a]` returns the probability that the agent takes action `a` while in state `s` under the policy.\n",
        "- `V`: This is a 1D numpy array with `V.shape[0]` equal to the number of states (`env.nS`).  `V[s]` contains the estimated value of state `s`.\n",
        "- `max_it`: This is a positive integer that corresponds to the number of sweeps through the state space (default value: `1`).\n",
        "- `gamma`: This is the discount rate.  It must be a value between 0 and 1, inclusive (default value: `1`).\n",
        "\n",
        "The algorithm returns as **output**:\n",
        "- `V`: This is a 1D numpy array with `V.shape[0]` equal to the number of states (`env.nS`).  `V[s]` contains the estimated value of state `s`."
      ]
    },
    {
      "cell_type": "code",
      "metadata": {
        "id": "KEpzp7M4M5eE"
      },
      "source": [
        "def truncated_policy_evaluation(env, policy, V, max_it=1, gamma=1):\n",
        "    num_it=0\n",
        "    while num_it < max_it:\n",
        "        for s in range(env.nS):\n",
        "            v = 0\n",
        "            q = q_from_v(env, V, s, gamma)\n",
        "            for a, action_prob in enumerate(policy[s]):\n",
        "                v += action_prob * q[a]\n",
        "            V[s] = v\n",
        "        num_it += 1\n",
        "    return V"
      ],
      "execution_count": 14,
      "outputs": []
    },
    {
      "cell_type": "markdown",
      "metadata": {
        "id": "E5PYgFtnM5eE"
      },
      "source": [
        "Next, we will implement truncated policy iteration.  Our algorithm should accept five arguments as **input**:\n",
        "- `env`: This is an instance of an OpenAI Gym environment, where `env.P` returns the one-step dynamics.\n",
        "- `max_it`: This is a positive integer that corresponds to the number of sweeps through the state space (default value: `1`).\n",
        "- `gamma`: This is the discount rate.  It must be a value between 0 and 1, inclusive (default value: `1`).\n",
        "- `theta`: This is a very small positive number that is used for the stopping criterion (default value: `1e-8`).\n",
        "\n",
        "The algorithm returns as **output**:\n",
        "- `policy`: This is a 2D numpy array with `policy.shape[0]` equal to the number of states (`env.nS`), and `policy.shape[1]` equal to the number of actions (`env.nA`).  `policy[s][a]` returns the probability that the agent takes action `a` while in state `s` under the policy.\n",
        "- `V`: This is a 1D numpy array with `V.shape[0]` equal to the number of states (`env.nS`).  `V[s]` contains the estimated value of state `s`."
      ]
    },
    {
      "cell_type": "code",
      "metadata": {
        "id": "81qOzG4_M5eE"
      },
      "source": [
        "def truncated_policy_iteration(env, max_it=1, gamma=1, theta=1e-8):\n",
        "    V = np.zeros(env.nS)\n",
        "    policy = np.zeros([env.nS, env.nA]) / env.nA\n",
        "    while True:\n",
        "        policy = policy_improvement(env, V)\n",
        "        old_V = copy.copy(V)\n",
        "        V = truncated_policy_evaluation(env, policy, V, max_it, gamma)\n",
        "        if max(abs(V-old_V)) < theta:\n",
        "            break;\n",
        "    return policy, V"
      ],
      "execution_count": 15,
      "outputs": []
    },
    {
      "cell_type": "markdown",
      "metadata": {
        "id": "xm9nBHKiM5eE"
      },
      "source": [
        "Run the next code cell to solve the MDP and visualize the output.  The state-value function has been reshaped to match the shape of the gridworld.\n",
        "\n",
        "Play with the value of the `max_it` argument.  Do you always end with the optimal state-value function?"
      ]
    },
    {
      "cell_type": "code",
      "metadata": {
        "id": "PAM2Cox-M5eF",
        "colab": {
          "base_uri": "https://localhost:8080/",
          "height": 720
        },
        "outputId": "cf1b94f9-5320-46d0-c21b-8f0bb45ff6cc"
      },
      "source": [
        "policy_tpi, V_tpi = truncated_policy_iteration(env, max_it=2)\n",
        "\n",
        "# print the optimal policy\n",
        "print(\"\\nOptimal Policy (LEFT = 0, DOWN = 1, RIGHT = 2, UP = 3):\")\n",
        "print(policy_tpi,\"\\n\")\n",
        "\n",
        "# plot the optimal state-value function\n",
        "plot_values(V_tpi)"
      ],
      "execution_count": 16,
      "outputs": [
        {
          "output_type": "stream",
          "text": [
            "\n",
            "Optimal Policy (LEFT = 0, DOWN = 1, RIGHT = 2, UP = 3):\n",
            "[[1.   0.   0.   0.  ]\n",
            " [0.   0.   0.   1.  ]\n",
            " [0.   0.   0.   1.  ]\n",
            " [0.   0.   0.   1.  ]\n",
            " [1.   0.   0.   0.  ]\n",
            " [0.25 0.25 0.25 0.25]\n",
            " [0.5  0.   0.5  0.  ]\n",
            " [0.25 0.25 0.25 0.25]\n",
            " [0.   0.   0.   1.  ]\n",
            " [0.   1.   0.   0.  ]\n",
            " [1.   0.   0.   0.  ]\n",
            " [0.25 0.25 0.25 0.25]\n",
            " [0.25 0.25 0.25 0.25]\n",
            " [0.   0.   1.   0.  ]\n",
            " [0.   1.   0.   0.  ]\n",
            " [0.25 0.25 0.25 0.25]] \n",
            "\n"
          ],
          "name": "stdout"
        },
        {
          "output_type": "display_data",
          "data": {
            "image/png": "[encoded data removed]",
            "text/plain": [
              "<Figure size 432x432 with 1 Axes>"
            ]
          },
          "metadata": {
            "tags": [],
            "needs_background": "light"
          }
        }
      ]
    },
    {
      "cell_type": "markdown",
      "metadata": {
        "id": "gE6AocQXM5eF"
      },
      "source": [
        "### Part 6: Value Iteration\n",
        "\n",
        "In this section, we will write your own implementation of value iteration.\n",
        "\n",
        "Our algorithm should accept three arguments as input:\n",
        "- `env`: This is an instance of an OpenAI Gym environment, where `env.P` returns the one-step dynamics.\n",
        "- `gamma`: This is the discount rate.  It must be a value between 0 and 1, inclusive (default value: `1`).\n",
        "- `theta`: This is a very small positive number that is used for the stopping criterion (default value: `1e-8`).\n",
        "\n",
        "The algorithm returns as **output**:\n",
        "- `policy`: This is a 2D numpy array with `policy.shape[0]` equal to the number of states (`env.nS`), and `policy.shape[1]` equal to the number of actions (`env.nA`).  `policy[s][a]` returns the probability that the agent takes action `a` while in state `s` under the policy.\n",
        "- `V`: This is a 1D numpy array with `V.shape[0]` equal to the number of states (`env.nS`).  `V[s]` contains the estimated value of state `s`."
      ]
    },
    {
      "cell_type": "code",
      "metadata": {
        "id": "1KesGY61M5eG"
      },
      "source": [
        "def value_iteration(env, gamma=1, theta=1e-8):\n",
        "    V = np.zeros(env.nS)\n",
        "    while True:\n",
        "        delta = 0\n",
        "        for s in range(env.nS):\n",
        "            v = V[s]\n",
        "            V[s] = max(q_from_v(env, V, s, gamma))\n",
        "            delta = max(delta,abs(V[s]-v))\n",
        "        if delta < theta:\n",
        "            break\n",
        "    policy = policy_improvement(env, V, gamma)\n",
        "    return policy, V"
      ],
      "execution_count": 17,
      "outputs": []
    },
    {
      "cell_type": "markdown",
      "metadata": {
        "id": "dOU7aXBMM5eG"
      },
      "source": [
        "Use the next code cell to solve the MDP and visualize the output.  The state-value function has been reshaped to match the shape of the gridworld."
      ]
    },
    {
      "cell_type": "code",
      "metadata": {
        "id": "V3Pe6TUwM5eG",
        "colab": {
          "base_uri": "https://localhost:8080/",
          "height": 720
        },
        "outputId": "e85b32b9-a609-466f-b464-fb05d996e619"
      },
      "source": [
        "policy_vi, V_vi = value_iteration(env)\n",
        "\n",
        "# print the optimal policy\n",
        "print(\"\\nOptimal Policy (LEFT = 0, DOWN = 1, RIGHT = 2, UP = 3):\")\n",
        "print(policy_vi,\"\\n\")\n",
        "\n",
        "# plot the optimal state-value function\n",
        "plot_values(V_vi)"
      ],
      "execution_count": 18,
      "outputs": [
        {
          "output_type": "stream",
          "text": [
            "\n",
            "Optimal Policy (LEFT = 0, DOWN = 1, RIGHT = 2, UP = 3):\n",
            "[[1.   0.   0.   0.  ]\n",
            " [0.   0.   0.   1.  ]\n",
            " [0.   0.   0.   1.  ]\n",
            " [0.   0.   0.   1.  ]\n",
            " [1.   0.   0.   0.  ]\n",
            " [0.25 0.25 0.25 0.25]\n",
            " [0.5  0.   0.5  0.  ]\n",
            " [0.25 0.25 0.25 0.25]\n",
            " [0.   0.   0.   1.  ]\n",
            " [0.   1.   0.   0.  ]\n",
            " [1.   0.   0.   0.  ]\n",
            " [0.25 0.25 0.25 0.25]\n",
            " [0.25 0.25 0.25 0.25]\n",
            " [0.   0.   1.   0.  ]\n",
            " [0.   1.   0.   0.  ]\n",
            " [0.25 0.25 0.25 0.25]] \n",
            "\n"
          ],
          "name": "stdout"
        },
        {
          "output_type": "display_data",
          "data": {
            "image/png": "[encoded data removed]",
            "text/plain": [
              "<Figure size 432x432 with 1 Axes>"
            ]
          },
          "metadata": {
            "tags": [],
            "needs_background": "light"
          }
        }
      ]
    }
  ]
}